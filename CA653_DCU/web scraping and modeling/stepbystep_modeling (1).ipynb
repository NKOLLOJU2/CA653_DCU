{
 "cells": [
  {
   "cell_type": "code",
   "execution_count": 2,
   "id": "d09b480b",
   "metadata": {},
   "outputs": [],
   "source": [
    "import pandas as pd"
   ]
  },
  {
   "cell_type": "code",
   "execution_count": 3,
   "id": "658c5261",
   "metadata": {},
   "outputs": [],
   "source": [
    "clean_data = pd.read_csv(\"mclean_glassdoors_dataset.csv\")"
   ]
  },
  {
   "cell_type": "code",
   "execution_count": 4,
   "id": "218e3f5d",
   "metadata": {},
   "outputs": [
    {
     "data": {
      "text/plain": [
       "Index(['Job Title', 'Salary Estimate', 'Job Description', 'Rating',\n",
       "       'Company Name', 'Location', 'Headquarters', 'Size', 'Founded',\n",
       "       'Type of ownership', 'Industry', 'Sector', 'Revenue', 'Competitors',\n",
       "       'Hourly', 'Employer_Provided_Salary', 'maximum_income',\n",
       "       'minimum_income', 'average_income', 'Company_Age', 'State', 'City',\n",
       "       'location_job', 'Company_name', 'Competitors_Number', 'Job_Length',\n",
       "       'Python', 'R_Stdio', 'AWS', 'Spark', 'Excel', 'Jobs_Rephrases',\n",
       "       'Seniority', 'L_Job_Description'],\n",
       "      dtype='object')"
      ]
     },
     "execution_count": 4,
     "metadata": {},
     "output_type": "execute_result"
    }
   ],
   "source": [
    "clean_data.columns"
   ]
  },
  {
   "cell_type": "code",
   "execution_count": 5,
   "id": "f9c9bc20",
   "metadata": {},
   "outputs": [
    {
     "data": {
      "text/html": [
       "<div>\n",
       "<style scoped>\n",
       "    .dataframe tbody tr th:only-of-type {\n",
       "        vertical-align: middle;\n",
       "    }\n",
       "\n",
       "    .dataframe tbody tr th {\n",
       "        vertical-align: top;\n",
       "    }\n",
       "\n",
       "    .dataframe thead th {\n",
       "        text-align: right;\n",
       "    }\n",
       "</style>\n",
       "<table border=\"1\" class=\"dataframe\">\n",
       "  <thead>\n",
       "    <tr style=\"text-align: right;\">\n",
       "      <th></th>\n",
       "      <th>Job Title</th>\n",
       "      <th>Salary Estimate</th>\n",
       "      <th>Job Description</th>\n",
       "      <th>Rating</th>\n",
       "      <th>Company Name</th>\n",
       "      <th>Location</th>\n",
       "      <th>Headquarters</th>\n",
       "      <th>Size</th>\n",
       "      <th>Founded</th>\n",
       "      <th>Type of ownership</th>\n",
       "      <th>...</th>\n",
       "      <th>Competitors_Number</th>\n",
       "      <th>Job_Length</th>\n",
       "      <th>Python</th>\n",
       "      <th>R_Stdio</th>\n",
       "      <th>AWS</th>\n",
       "      <th>Spark</th>\n",
       "      <th>Excel</th>\n",
       "      <th>Jobs_Rephrases</th>\n",
       "      <th>Seniority</th>\n",
       "      <th>L_Job_Description</th>\n",
       "    </tr>\n",
       "  </thead>\n",
       "  <tbody>\n",
       "    <tr>\n",
       "      <th>0</th>\n",
       "      <td>Data Scientist</td>\n",
       "      <td>$53K-$91K (Glassdoor est.)</td>\n",
       "      <td>Data Scientist\\nLocation: Albuquerque, NM\\nEdu...</td>\n",
       "      <td>3.8</td>\n",
       "      <td>Tecolote Research\\n3.8</td>\n",
       "      <td>Albuquerque, NM</td>\n",
       "      <td>Goleta, CA</td>\n",
       "      <td>501 to 1000 employees</td>\n",
       "      <td>1973</td>\n",
       "      <td>Company - Private</td>\n",
       "      <td>...</td>\n",
       "      <td>0</td>\n",
       "      <td>2536</td>\n",
       "      <td>1</td>\n",
       "      <td>0</td>\n",
       "      <td>0</td>\n",
       "      <td>0</td>\n",
       "      <td>1</td>\n",
       "      <td>Data Scientist</td>\n",
       "      <td>Not Mentioned</td>\n",
       "      <td>2536</td>\n",
       "    </tr>\n",
       "    <tr>\n",
       "      <th>1</th>\n",
       "      <td>Healthcare Data Scientist</td>\n",
       "      <td>$63K-$112K (Glassdoor est.)</td>\n",
       "      <td>What You Will Do:\\n\\nI. General Summary\\n\\nThe...</td>\n",
       "      <td>3.4</td>\n",
       "      <td>University of Maryland Medical System\\n3.4</td>\n",
       "      <td>Linthicum, MD</td>\n",
       "      <td>Baltimore, MD</td>\n",
       "      <td>10000+ employees</td>\n",
       "      <td>1984</td>\n",
       "      <td>Other Organization</td>\n",
       "      <td>...</td>\n",
       "      <td>0</td>\n",
       "      <td>4783</td>\n",
       "      <td>1</td>\n",
       "      <td>0</td>\n",
       "      <td>0</td>\n",
       "      <td>0</td>\n",
       "      <td>0</td>\n",
       "      <td>Data Scientist</td>\n",
       "      <td>Not Mentioned</td>\n",
       "      <td>4783</td>\n",
       "    </tr>\n",
       "    <tr>\n",
       "      <th>2</th>\n",
       "      <td>Data Scientist</td>\n",
       "      <td>$80K-$90K (Glassdoor est.)</td>\n",
       "      <td>KnowBe4, Inc. is a high growth information sec...</td>\n",
       "      <td>4.8</td>\n",
       "      <td>KnowBe4\\n4.8</td>\n",
       "      <td>Clearwater, FL</td>\n",
       "      <td>Clearwater, FL</td>\n",
       "      <td>501 to 1000 employees</td>\n",
       "      <td>2010</td>\n",
       "      <td>Company - Private</td>\n",
       "      <td>...</td>\n",
       "      <td>0</td>\n",
       "      <td>3461</td>\n",
       "      <td>1</td>\n",
       "      <td>1</td>\n",
       "      <td>0</td>\n",
       "      <td>1</td>\n",
       "      <td>1</td>\n",
       "      <td>Data Scientist</td>\n",
       "      <td>Not Mentioned</td>\n",
       "      <td>3461</td>\n",
       "    </tr>\n",
       "    <tr>\n",
       "      <th>3</th>\n",
       "      <td>Data Scientist</td>\n",
       "      <td>$56K-$97K (Glassdoor est.)</td>\n",
       "      <td>*Organization and Job ID**\\nJob ID: 310709\\n\\n...</td>\n",
       "      <td>3.8</td>\n",
       "      <td>PNNL\\n3.8</td>\n",
       "      <td>Richland, WA</td>\n",
       "      <td>Richland, WA</td>\n",
       "      <td>1001 to 5000 employees</td>\n",
       "      <td>1965</td>\n",
       "      <td>Government</td>\n",
       "      <td>...</td>\n",
       "      <td>3</td>\n",
       "      <td>3883</td>\n",
       "      <td>1</td>\n",
       "      <td>0</td>\n",
       "      <td>0</td>\n",
       "      <td>0</td>\n",
       "      <td>0</td>\n",
       "      <td>Data Scientist</td>\n",
       "      <td>Not Mentioned</td>\n",
       "      <td>3883</td>\n",
       "    </tr>\n",
       "    <tr>\n",
       "      <th>4</th>\n",
       "      <td>Data Scientist</td>\n",
       "      <td>$86K-$143K (Glassdoor est.)</td>\n",
       "      <td>Data Scientist\\nAffinity Solutions / Marketing...</td>\n",
       "      <td>2.9</td>\n",
       "      <td>Affinity Solutions\\n2.9</td>\n",
       "      <td>New York, NY</td>\n",
       "      <td>New York, NY</td>\n",
       "      <td>51 to 200 employees</td>\n",
       "      <td>1998</td>\n",
       "      <td>Company - Private</td>\n",
       "      <td>...</td>\n",
       "      <td>3</td>\n",
       "      <td>2728</td>\n",
       "      <td>1</td>\n",
       "      <td>0</td>\n",
       "      <td>0</td>\n",
       "      <td>0</td>\n",
       "      <td>1</td>\n",
       "      <td>Data Scientist</td>\n",
       "      <td>Not Mentioned</td>\n",
       "      <td>2728</td>\n",
       "    </tr>\n",
       "  </tbody>\n",
       "</table>\n",
       "<p>5 rows × 34 columns</p>\n",
       "</div>"
      ],
      "text/plain": [
       "                   Job Title              Salary Estimate  \\\n",
       "0             Data Scientist   $53K-$91K (Glassdoor est.)   \n",
       "1  Healthcare Data Scientist  $63K-$112K (Glassdoor est.)   \n",
       "2             Data Scientist   $80K-$90K (Glassdoor est.)   \n",
       "3             Data Scientist   $56K-$97K (Glassdoor est.)   \n",
       "4             Data Scientist  $86K-$143K (Glassdoor est.)   \n",
       "\n",
       "                                     Job Description  Rating  \\\n",
       "0  Data Scientist\\nLocation: Albuquerque, NM\\nEdu...     3.8   \n",
       "1  What You Will Do:\\n\\nI. General Summary\\n\\nThe...     3.4   \n",
       "2  KnowBe4, Inc. is a high growth information sec...     4.8   \n",
       "3  *Organization and Job ID**\\nJob ID: 310709\\n\\n...     3.8   \n",
       "4  Data Scientist\\nAffinity Solutions / Marketing...     2.9   \n",
       "\n",
       "                                 Company Name         Location  \\\n",
       "0                      Tecolote Research\\n3.8  Albuquerque, NM   \n",
       "1  University of Maryland Medical System\\n3.4    Linthicum, MD   \n",
       "2                                KnowBe4\\n4.8   Clearwater, FL   \n",
       "3                                   PNNL\\n3.8     Richland, WA   \n",
       "4                     Affinity Solutions\\n2.9     New York, NY   \n",
       "\n",
       "     Headquarters                    Size  Founded   Type of ownership  ...  \\\n",
       "0      Goleta, CA   501 to 1000 employees     1973   Company - Private  ...   \n",
       "1   Baltimore, MD        10000+ employees     1984  Other Organization  ...   \n",
       "2  Clearwater, FL   501 to 1000 employees     2010   Company - Private  ...   \n",
       "3    Richland, WA  1001 to 5000 employees     1965          Government  ...   \n",
       "4    New York, NY     51 to 200 employees     1998   Company - Private  ...   \n",
       "\n",
       "  Competitors_Number Job_Length Python R_Stdio  AWS  Spark  Excel  \\\n",
       "0                  0       2536      1       0    0      0      1   \n",
       "1                  0       4783      1       0    0      0      0   \n",
       "2                  0       3461      1       1    0      1      1   \n",
       "3                  3       3883      1       0    0      0      0   \n",
       "4                  3       2728      1       0    0      0      1   \n",
       "\n",
       "   Jobs_Rephrases      Seniority  L_Job_Description  \n",
       "0  Data Scientist  Not Mentioned               2536  \n",
       "1  Data Scientist  Not Mentioned               4783  \n",
       "2  Data Scientist  Not Mentioned               3461  \n",
       "3  Data Scientist  Not Mentioned               3883  \n",
       "4  Data Scientist  Not Mentioned               2728  \n",
       "\n",
       "[5 rows x 34 columns]"
      ]
     },
     "execution_count": 5,
     "metadata": {},
     "output_type": "execute_result"
    }
   ],
   "source": [
    "clean_data.head()"
   ]
  },
  {
   "cell_type": "code",
   "execution_count": 6,
   "id": "9f7c02ea",
   "metadata": {},
   "outputs": [],
   "source": [
    "# get the most required features for modeling\n",
    "data = clean_data[[\"average_income\",\"Rating\",\"Size\",\"Type of ownership\",\"Industry\",\"Sector\",\"Revenue\",\"Competitors_Number\",\"Hourly\",\"Employer_Provided_Salary\",\"State\",\"location_job\",\"Company_Age\",\"Python\",\"Spark\",\"AWS\",\"Excel\",\"Jobs_Rephrases\",\"Seniority\",\"L_Job_Description\"]]\n",
    "data.to_csv(\"model_data.csv\", index = False)"
   ]
  },
  {
   "cell_type": "code",
   "execution_count": 7,
   "id": "00c835df",
   "metadata": {},
   "outputs": [],
   "source": [
    "data=pd.read_csv('model_data.csv')"
   ]
  },
  {
   "cell_type": "code",
   "execution_count": 8,
   "id": "184c1fd5",
   "metadata": {},
   "outputs": [
    {
     "data": {
      "text/html": [
       "<div>\n",
       "<style scoped>\n",
       "    .dataframe tbody tr th:only-of-type {\n",
       "        vertical-align: middle;\n",
       "    }\n",
       "\n",
       "    .dataframe tbody tr th {\n",
       "        vertical-align: top;\n",
       "    }\n",
       "\n",
       "    .dataframe thead th {\n",
       "        text-align: right;\n",
       "    }\n",
       "</style>\n",
       "<table border=\"1\" class=\"dataframe\">\n",
       "  <thead>\n",
       "    <tr style=\"text-align: right;\">\n",
       "      <th></th>\n",
       "      <th>average_income</th>\n",
       "      <th>Rating</th>\n",
       "      <th>Size</th>\n",
       "      <th>Type of ownership</th>\n",
       "      <th>Industry</th>\n",
       "      <th>Sector</th>\n",
       "      <th>Revenue</th>\n",
       "      <th>Competitors_Number</th>\n",
       "      <th>Hourly</th>\n",
       "      <th>Employer_Provided_Salary</th>\n",
       "      <th>State</th>\n",
       "      <th>location_job</th>\n",
       "      <th>Company_Age</th>\n",
       "      <th>Python</th>\n",
       "      <th>Spark</th>\n",
       "      <th>AWS</th>\n",
       "      <th>Excel</th>\n",
       "      <th>Jobs_Rephrases</th>\n",
       "      <th>Seniority</th>\n",
       "      <th>L_Job_Description</th>\n",
       "    </tr>\n",
       "  </thead>\n",
       "  <tbody>\n",
       "    <tr>\n",
       "      <th>0</th>\n",
       "      <td>72.0</td>\n",
       "      <td>3.8</td>\n",
       "      <td>501 to 1000 employees</td>\n",
       "      <td>Company - Private</td>\n",
       "      <td>Aerospace &amp; Defense</td>\n",
       "      <td>Aerospace &amp; Defense</td>\n",
       "      <td>$50 to $100 million (USD)</td>\n",
       "      <td>0</td>\n",
       "      <td>0</td>\n",
       "      <td>0</td>\n",
       "      <td>NM</td>\n",
       "      <td>0</td>\n",
       "      <td>47</td>\n",
       "      <td>1</td>\n",
       "      <td>0</td>\n",
       "      <td>0</td>\n",
       "      <td>1</td>\n",
       "      <td>Data Scientist</td>\n",
       "      <td>Not Mentioned</td>\n",
       "      <td>2536</td>\n",
       "    </tr>\n",
       "    <tr>\n",
       "      <th>1</th>\n",
       "      <td>87.5</td>\n",
       "      <td>3.4</td>\n",
       "      <td>10000+ employees</td>\n",
       "      <td>Other Organization</td>\n",
       "      <td>Health Care Services &amp; Hospitals</td>\n",
       "      <td>Health Care</td>\n",
       "      <td>$2 to $5 billion (USD)</td>\n",
       "      <td>0</td>\n",
       "      <td>0</td>\n",
       "      <td>0</td>\n",
       "      <td>MD</td>\n",
       "      <td>0</td>\n",
       "      <td>36</td>\n",
       "      <td>1</td>\n",
       "      <td>0</td>\n",
       "      <td>0</td>\n",
       "      <td>0</td>\n",
       "      <td>Data Scientist</td>\n",
       "      <td>Not Mentioned</td>\n",
       "      <td>4783</td>\n",
       "    </tr>\n",
       "    <tr>\n",
       "      <th>2</th>\n",
       "      <td>85.0</td>\n",
       "      <td>4.8</td>\n",
       "      <td>501 to 1000 employees</td>\n",
       "      <td>Company - Private</td>\n",
       "      <td>Security Services</td>\n",
       "      <td>Business Services</td>\n",
       "      <td>$100 to $500 million (USD)</td>\n",
       "      <td>0</td>\n",
       "      <td>0</td>\n",
       "      <td>0</td>\n",
       "      <td>FL</td>\n",
       "      <td>1</td>\n",
       "      <td>10</td>\n",
       "      <td>1</td>\n",
       "      <td>1</td>\n",
       "      <td>0</td>\n",
       "      <td>1</td>\n",
       "      <td>Data Scientist</td>\n",
       "      <td>Not Mentioned</td>\n",
       "      <td>3461</td>\n",
       "    </tr>\n",
       "    <tr>\n",
       "      <th>3</th>\n",
       "      <td>76.5</td>\n",
       "      <td>3.8</td>\n",
       "      <td>1001 to 5000 employees</td>\n",
       "      <td>Government</td>\n",
       "      <td>Energy</td>\n",
       "      <td>Oil, Gas, Energy &amp; Utilities</td>\n",
       "      <td>$500 million to $1 billion (USD)</td>\n",
       "      <td>3</td>\n",
       "      <td>0</td>\n",
       "      <td>0</td>\n",
       "      <td>WA</td>\n",
       "      <td>1</td>\n",
       "      <td>55</td>\n",
       "      <td>1</td>\n",
       "      <td>0</td>\n",
       "      <td>0</td>\n",
       "      <td>0</td>\n",
       "      <td>Data Scientist</td>\n",
       "      <td>Not Mentioned</td>\n",
       "      <td>3883</td>\n",
       "    </tr>\n",
       "    <tr>\n",
       "      <th>4</th>\n",
       "      <td>114.5</td>\n",
       "      <td>2.9</td>\n",
       "      <td>51 to 200 employees</td>\n",
       "      <td>Company - Private</td>\n",
       "      <td>Advertising &amp; Marketing</td>\n",
       "      <td>Business Services</td>\n",
       "      <td>Unknown / Non-Applicable</td>\n",
       "      <td>3</td>\n",
       "      <td>0</td>\n",
       "      <td>0</td>\n",
       "      <td>NY</td>\n",
       "      <td>1</td>\n",
       "      <td>22</td>\n",
       "      <td>1</td>\n",
       "      <td>0</td>\n",
       "      <td>0</td>\n",
       "      <td>1</td>\n",
       "      <td>Data Scientist</td>\n",
       "      <td>Not Mentioned</td>\n",
       "      <td>2728</td>\n",
       "    </tr>\n",
       "  </tbody>\n",
       "</table>\n",
       "</div>"
      ],
      "text/plain": [
       "   average_income  Rating                    Size   Type of ownership  \\\n",
       "0            72.0     3.8   501 to 1000 employees   Company - Private   \n",
       "1            87.5     3.4        10000+ employees  Other Organization   \n",
       "2            85.0     4.8   501 to 1000 employees   Company - Private   \n",
       "3            76.5     3.8  1001 to 5000 employees          Government   \n",
       "4           114.5     2.9     51 to 200 employees   Company - Private   \n",
       "\n",
       "                           Industry                        Sector  \\\n",
       "0               Aerospace & Defense           Aerospace & Defense   \n",
       "1  Health Care Services & Hospitals                   Health Care   \n",
       "2                 Security Services             Business Services   \n",
       "3                            Energy  Oil, Gas, Energy & Utilities   \n",
       "4           Advertising & Marketing             Business Services   \n",
       "\n",
       "                            Revenue  Competitors_Number  Hourly  \\\n",
       "0         $50 to $100 million (USD)                   0       0   \n",
       "1            $2 to $5 billion (USD)                   0       0   \n",
       "2        $100 to $500 million (USD)                   0       0   \n",
       "3  $500 million to $1 billion (USD)                   3       0   \n",
       "4          Unknown / Non-Applicable                   3       0   \n",
       "\n",
       "   Employer_Provided_Salary State  location_job  Company_Age  Python  Spark  \\\n",
       "0                         0    NM             0           47       1      0   \n",
       "1                         0    MD             0           36       1      0   \n",
       "2                         0    FL             1           10       1      1   \n",
       "3                         0    WA             1           55       1      0   \n",
       "4                         0    NY             1           22       1      0   \n",
       "\n",
       "   AWS  Excel  Jobs_Rephrases      Seniority  L_Job_Description  \n",
       "0    0      1  Data Scientist  Not Mentioned               2536  \n",
       "1    0      0  Data Scientist  Not Mentioned               4783  \n",
       "2    0      1  Data Scientist  Not Mentioned               3461  \n",
       "3    0      0  Data Scientist  Not Mentioned               3883  \n",
       "4    0      1  Data Scientist  Not Mentioned               2728  "
      ]
     },
     "execution_count": 8,
     "metadata": {},
     "output_type": "execute_result"
    }
   ],
   "source": [
    "data.head()"
   ]
  },
  {
   "cell_type": "code",
   "execution_count": 9,
   "id": "b50009db",
   "metadata": {},
   "outputs": [
    {
     "data": {
      "text/plain": [
       "Index(['average_income', 'Rating', 'Size', 'Type of ownership', 'Industry',\n",
       "       'Sector', 'Revenue', 'Competitors_Number', 'Hourly',\n",
       "       'Employer_Provided_Salary', 'State', 'location_job', 'Company_Age',\n",
       "       'Python', 'Spark', 'AWS', 'Excel', 'Jobs_Rephrases', 'Seniority',\n",
       "       'L_Job_Description'],\n",
       "      dtype='object')"
      ]
     },
     "execution_count": 9,
     "metadata": {},
     "output_type": "execute_result"
    }
   ],
   "source": [
    "data.columns"
   ]
  },
  {
   "cell_type": "code",
   "execution_count": 10,
   "id": "555947c3",
   "metadata": {},
   "outputs": [
    {
     "data": {
      "text/plain": [
       "20"
      ]
     },
     "execution_count": 10,
     "metadata": {},
     "output_type": "execute_result"
    }
   ],
   "source": [
    "len(data.columns)"
   ]
  },
  {
   "cell_type": "code",
   "execution_count": 11,
   "id": "6203ba01",
   "metadata": {},
   "outputs": [],
   "source": [
    "final_data = pd.get_dummies(data)"
   ]
  },
  {
   "cell_type": "code",
   "execution_count": 12,
   "id": "b1e61fa2",
   "metadata": {},
   "outputs": [
    {
     "data": {
      "text/html": [
       "<div>\n",
       "<style scoped>\n",
       "    .dataframe tbody tr th:only-of-type {\n",
       "        vertical-align: middle;\n",
       "    }\n",
       "\n",
       "    .dataframe tbody tr th {\n",
       "        vertical-align: top;\n",
       "    }\n",
       "\n",
       "    .dataframe thead th {\n",
       "        text-align: right;\n",
       "    }\n",
       "</style>\n",
       "<table border=\"1\" class=\"dataframe\">\n",
       "  <thead>\n",
       "    <tr style=\"text-align: right;\">\n",
       "      <th></th>\n",
       "      <th>average_income</th>\n",
       "      <th>Rating</th>\n",
       "      <th>Competitors_Number</th>\n",
       "      <th>Hourly</th>\n",
       "      <th>Employer_Provided_Salary</th>\n",
       "      <th>location_job</th>\n",
       "      <th>Company_Age</th>\n",
       "      <th>Python</th>\n",
       "      <th>Spark</th>\n",
       "      <th>AWS</th>\n",
       "      <th>...</th>\n",
       "      <th>Jobs_Rephrases_Analyst</th>\n",
       "      <th>Jobs_Rephrases_Data Engineer</th>\n",
       "      <th>Jobs_Rephrases_Data Scientist</th>\n",
       "      <th>Jobs_Rephrases_Director</th>\n",
       "      <th>Jobs_Rephrases_Machine Learning Engineer</th>\n",
       "      <th>Jobs_Rephrases_Manager</th>\n",
       "      <th>Jobs_Rephrases_Other Titles</th>\n",
       "      <th>Seniority_Junior</th>\n",
       "      <th>Seniority_Not Mentioned</th>\n",
       "      <th>Seniority_Senior</th>\n",
       "    </tr>\n",
       "  </thead>\n",
       "  <tbody>\n",
       "    <tr>\n",
       "      <th>0</th>\n",
       "      <td>72.0</td>\n",
       "      <td>3.8</td>\n",
       "      <td>0</td>\n",
       "      <td>0</td>\n",
       "      <td>0</td>\n",
       "      <td>0</td>\n",
       "      <td>47</td>\n",
       "      <td>1</td>\n",
       "      <td>0</td>\n",
       "      <td>0</td>\n",
       "      <td>...</td>\n",
       "      <td>0</td>\n",
       "      <td>0</td>\n",
       "      <td>1</td>\n",
       "      <td>0</td>\n",
       "      <td>0</td>\n",
       "      <td>0</td>\n",
       "      <td>0</td>\n",
       "      <td>0</td>\n",
       "      <td>1</td>\n",
       "      <td>0</td>\n",
       "    </tr>\n",
       "    <tr>\n",
       "      <th>1</th>\n",
       "      <td>87.5</td>\n",
       "      <td>3.4</td>\n",
       "      <td>0</td>\n",
       "      <td>0</td>\n",
       "      <td>0</td>\n",
       "      <td>0</td>\n",
       "      <td>36</td>\n",
       "      <td>1</td>\n",
       "      <td>0</td>\n",
       "      <td>0</td>\n",
       "      <td>...</td>\n",
       "      <td>0</td>\n",
       "      <td>0</td>\n",
       "      <td>1</td>\n",
       "      <td>0</td>\n",
       "      <td>0</td>\n",
       "      <td>0</td>\n",
       "      <td>0</td>\n",
       "      <td>0</td>\n",
       "      <td>1</td>\n",
       "      <td>0</td>\n",
       "    </tr>\n",
       "    <tr>\n",
       "      <th>2</th>\n",
       "      <td>85.0</td>\n",
       "      <td>4.8</td>\n",
       "      <td>0</td>\n",
       "      <td>0</td>\n",
       "      <td>0</td>\n",
       "      <td>1</td>\n",
       "      <td>10</td>\n",
       "      <td>1</td>\n",
       "      <td>1</td>\n",
       "      <td>0</td>\n",
       "      <td>...</td>\n",
       "      <td>0</td>\n",
       "      <td>0</td>\n",
       "      <td>1</td>\n",
       "      <td>0</td>\n",
       "      <td>0</td>\n",
       "      <td>0</td>\n",
       "      <td>0</td>\n",
       "      <td>0</td>\n",
       "      <td>1</td>\n",
       "      <td>0</td>\n",
       "    </tr>\n",
       "    <tr>\n",
       "      <th>3</th>\n",
       "      <td>76.5</td>\n",
       "      <td>3.8</td>\n",
       "      <td>3</td>\n",
       "      <td>0</td>\n",
       "      <td>0</td>\n",
       "      <td>1</td>\n",
       "      <td>55</td>\n",
       "      <td>1</td>\n",
       "      <td>0</td>\n",
       "      <td>0</td>\n",
       "      <td>...</td>\n",
       "      <td>0</td>\n",
       "      <td>0</td>\n",
       "      <td>1</td>\n",
       "      <td>0</td>\n",
       "      <td>0</td>\n",
       "      <td>0</td>\n",
       "      <td>0</td>\n",
       "      <td>0</td>\n",
       "      <td>1</td>\n",
       "      <td>0</td>\n",
       "    </tr>\n",
       "    <tr>\n",
       "      <th>4</th>\n",
       "      <td>114.5</td>\n",
       "      <td>2.9</td>\n",
       "      <td>3</td>\n",
       "      <td>0</td>\n",
       "      <td>0</td>\n",
       "      <td>1</td>\n",
       "      <td>22</td>\n",
       "      <td>1</td>\n",
       "      <td>0</td>\n",
       "      <td>0</td>\n",
       "      <td>...</td>\n",
       "      <td>0</td>\n",
       "      <td>0</td>\n",
       "      <td>1</td>\n",
       "      <td>0</td>\n",
       "      <td>0</td>\n",
       "      <td>0</td>\n",
       "      <td>0</td>\n",
       "      <td>0</td>\n",
       "      <td>1</td>\n",
       "      <td>0</td>\n",
       "    </tr>\n",
       "  </tbody>\n",
       "</table>\n",
       "<p>5 rows × 178 columns</p>\n",
       "</div>"
      ],
      "text/plain": [
       "   average_income  Rating  Competitors_Number  Hourly  \\\n",
       "0            72.0     3.8                   0       0   \n",
       "1            87.5     3.4                   0       0   \n",
       "2            85.0     4.8                   0       0   \n",
       "3            76.5     3.8                   3       0   \n",
       "4           114.5     2.9                   3       0   \n",
       "\n",
       "   Employer_Provided_Salary  location_job  Company_Age  Python  Spark  AWS  \\\n",
       "0                         0             0           47       1      0    0   \n",
       "1                         0             0           36       1      0    0   \n",
       "2                         0             1           10       1      1    0   \n",
       "3                         0             1           55       1      0    0   \n",
       "4                         0             1           22       1      0    0   \n",
       "\n",
       "   ...  Jobs_Rephrases_Analyst  Jobs_Rephrases_Data Engineer  \\\n",
       "0  ...                       0                             0   \n",
       "1  ...                       0                             0   \n",
       "2  ...                       0                             0   \n",
       "3  ...                       0                             0   \n",
       "4  ...                       0                             0   \n",
       "\n",
       "   Jobs_Rephrases_Data Scientist  Jobs_Rephrases_Director  \\\n",
       "0                              1                        0   \n",
       "1                              1                        0   \n",
       "2                              1                        0   \n",
       "3                              1                        0   \n",
       "4                              1                        0   \n",
       "\n",
       "   Jobs_Rephrases_Machine Learning Engineer  Jobs_Rephrases_Manager  \\\n",
       "0                                         0                       0   \n",
       "1                                         0                       0   \n",
       "2                                         0                       0   \n",
       "3                                         0                       0   \n",
       "4                                         0                       0   \n",
       "\n",
       "   Jobs_Rephrases_Other Titles  Seniority_Junior  Seniority_Not Mentioned  \\\n",
       "0                            0                 0                        1   \n",
       "1                            0                 0                        1   \n",
       "2                            0                 0                        1   \n",
       "3                            0                 0                        1   \n",
       "4                            0                 0                        1   \n",
       "\n",
       "   Seniority_Senior  \n",
       "0                 0  \n",
       "1                 0  \n",
       "2                 0  \n",
       "3                 0  \n",
       "4                 0  \n",
       "\n",
       "[5 rows x 178 columns]"
      ]
     },
     "execution_count": 12,
     "metadata": {},
     "output_type": "execute_result"
    }
   ],
   "source": [
    "final_data.head()"
   ]
  },
  {
   "cell_type": "code",
   "execution_count": 13,
   "id": "bfcfaf6c",
   "metadata": {},
   "outputs": [
    {
     "data": {
      "text/plain": [
       "Index(['average_income', 'Rating', 'Competitors_Number', 'Hourly',\n",
       "       'Employer_Provided_Salary', 'location_job', 'Company_Age', 'Python',\n",
       "       'Spark', 'AWS',\n",
       "       ...\n",
       "       'Jobs_Rephrases_Analyst', 'Jobs_Rephrases_Data Engineer',\n",
       "       'Jobs_Rephrases_Data Scientist', 'Jobs_Rephrases_Director',\n",
       "       'Jobs_Rephrases_Machine Learning Engineer', 'Jobs_Rephrases_Manager',\n",
       "       'Jobs_Rephrases_Other Titles', 'Seniority_Junior',\n",
       "       'Seniority_Not Mentioned', 'Seniority_Senior'],\n",
       "      dtype='object', length=178)"
      ]
     },
     "execution_count": 13,
     "metadata": {},
     "output_type": "execute_result"
    }
   ],
   "source": [
    "final_data.columns"
   ]
  },
  {
   "cell_type": "code",
   "execution_count": 14,
   "id": "beb3e37f",
   "metadata": {},
   "outputs": [
    {
     "data": {
      "text/plain": [
       "178"
      ]
     },
     "execution_count": 14,
     "metadata": {},
     "output_type": "execute_result"
    }
   ],
   "source": [
    "len(final_data.columns)"
   ]
  },
  {
   "cell_type": "code",
   "execution_count": 15,
   "id": "cf9799ca",
   "metadata": {},
   "outputs": [],
   "source": [
    "from sklearn.model_selection import train_test_split"
   ]
  },
  {
   "cell_type": "code",
   "execution_count": 17,
   "id": "8dd460b8",
   "metadata": {},
   "outputs": [],
   "source": [
    "X = final_data.drop(\"average_income\", axis = 1)              # independent features\n",
    "y = final_data[\"average_income\"].values                           # output label"
   ]
  },
  {
   "cell_type": "code",
   "execution_count": 18,
   "id": "cf05f69a",
   "metadata": {},
   "outputs": [
    {
     "data": {
      "text/plain": [
       "(97202, 177)"
      ]
     },
     "execution_count": 18,
     "metadata": {},
     "output_type": "execute_result"
    }
   ],
   "source": [
    "X.shape"
   ]
  },
  {
   "cell_type": "code",
   "execution_count": 19,
   "id": "8b2a4e67",
   "metadata": {},
   "outputs": [
    {
     "data": {
      "text/plain": [
       "(97202,)"
      ]
     },
     "execution_count": 19,
     "metadata": {},
     "output_type": "execute_result"
    }
   ],
   "source": [
    "y.shape"
   ]
  },
  {
   "cell_type": "code",
   "execution_count": 20,
   "id": "a96958bf",
   "metadata": {},
   "outputs": [],
   "source": [
    "# train test split\n",
    "X_train, X_test, y_train, y_test = train_test_split(X,y, test_size = 0.2, random_state = 42)"
   ]
  },
  {
   "cell_type": "code",
   "execution_count": 21,
   "id": "0f9fb179",
   "metadata": {},
   "outputs": [
    {
     "data": {
      "text/plain": [
       "(77761, 177)"
      ]
     },
     "execution_count": 21,
     "metadata": {},
     "output_type": "execute_result"
    }
   ],
   "source": [
    "X_train.shape"
   ]
  },
  {
   "cell_type": "code",
   "execution_count": 22,
   "id": "346b22cc",
   "metadata": {},
   "outputs": [
    {
     "data": {
      "text/plain": [
       "(77761,)"
      ]
     },
     "execution_count": 22,
     "metadata": {},
     "output_type": "execute_result"
    }
   ],
   "source": [
    "y_train.shape"
   ]
  },
  {
   "cell_type": "code",
   "execution_count": 23,
   "id": "cbaffef5",
   "metadata": {},
   "outputs": [
    {
     "data": {
      "text/plain": [
       "(19441, 177)"
      ]
     },
     "execution_count": 23,
     "metadata": {},
     "output_type": "execute_result"
    }
   ],
   "source": [
    "X_test.shape"
   ]
  },
  {
   "cell_type": "code",
   "execution_count": 24,
   "id": "7e2f0eaf",
   "metadata": {},
   "outputs": [
    {
     "data": {
      "text/plain": [
       "(19441,)"
      ]
     },
     "execution_count": 24,
     "metadata": {},
     "output_type": "execute_result"
    }
   ],
   "source": [
    "y_test.shape"
   ]
  },
  {
   "cell_type": "code",
   "execution_count": 26,
   "id": "3ed2cf27",
   "metadata": {},
   "outputs": [],
   "source": [
    "from sklearn.linear_model import LinearRegression"
   ]
  },
  {
   "cell_type": "code",
   "execution_count": 27,
   "id": "67cba494",
   "metadata": {},
   "outputs": [
    {
     "data": {
      "text/plain": [
       "LinearRegression()"
      ]
     },
     "execution_count": 27,
     "metadata": {},
     "output_type": "execute_result"
    }
   ],
   "source": [
    "linear_regressor = LinearRegression()                                      # Model Initialization\n",
    "linear_regressor.fit(X_train,y_train)"
   ]
  },
  {
   "cell_type": "code",
   "execution_count": 29,
   "id": "bb73ae61",
   "metadata": {},
   "outputs": [],
   "source": [
    "from sklearn.model_selection import cross_val_score"
   ]
  },
  {
   "cell_type": "code",
   "execution_count": 30,
   "id": "f16cf95d",
   "metadata": {},
   "outputs": [],
   "source": [
    "score=cross_val_score(linear_regressor,X_train, y_train, scoring = \"neg_mean_absolute_error\",cv = 3)"
   ]
  },
  {
   "cell_type": "code",
   "execution_count": 32,
   "id": "b536ec32",
   "metadata": {},
   "outputs": [],
   "source": [
    "import numpy as np"
   ]
  },
  {
   "cell_type": "code",
   "execution_count": 33,
   "id": "b31ac39c",
   "metadata": {},
   "outputs": [],
   "source": [
    "validation_score=np.mean(score)"
   ]
  },
  {
   "cell_type": "code",
   "execution_count": 35,
   "id": "8af51370",
   "metadata": {},
   "outputs": [
    {
     "data": {
      "text/plain": [
       "-19598026.779324006"
      ]
     },
     "execution_count": 35,
     "metadata": {},
     "output_type": "execute_result"
    }
   ],
   "source": [
    "validation_score"
   ]
  },
  {
   "cell_type": "code",
   "execution_count": 36,
   "id": "deaf8d69",
   "metadata": {},
   "outputs": [],
   "source": [
    "from sklearn.linear_model import Lasso"
   ]
  },
  {
   "cell_type": "code",
   "execution_count": 44,
   "id": "31639a5d",
   "metadata": {},
   "outputs": [],
   "source": [
    "import matplotlib.pyplot as plt"
   ]
  },
  {
   "cell_type": "code",
   "execution_count": 48,
   "id": "f8780c19",
   "metadata": {},
   "outputs": [
    {
     "data": {
      "text/plain": [
       "Text(0.5, 1.0, 'Hyperparameter Optimization')"
      ]
     },
     "execution_count": 48,
     "metadata": {},
     "output_type": "execute_result"
    },
    {
     "data": {
      "image/png": "[encoded data removed]",
      "text/plain": [
       "<Figure size 432x288 with 1 Axes>"
      ]
     },
     "metadata": {
      "needs_background": "light"
     },
     "output_type": "display_data"
    }
   ],
   "source": [
    "# Hyperparameter Optimization using elbow method\n",
    "alpha,error=[],[]\n",
    "for parameter in range(1,100):\n",
    "    alpha.append(parameter/100)\n",
    "    lasso = Lasso(alpha=(parameter/100))\n",
    "    error.append(np.mean(cross_val_score(lasso,X_train,y_train, scoring = 'neg_mean_absolute_error', cv= 3)))\n",
    "plt.plot(alpha,error)\n",
    "plt.ylabel('ERROR')\n",
    "plt.xlabel('alpha')\n",
    "plt.title('Hyperparameter Optimization')"
   ]
  },
  {
   "cell_type": "code",
   "execution_count": 56,
   "id": "82f29741",
   "metadata": {},
   "outputs": [
    {
     "data": {
      "text/html": [
       "<div>\n",
       "<style scoped>\n",
       "    .dataframe tbody tr th:only-of-type {\n",
       "        vertical-align: middle;\n",
       "    }\n",
       "\n",
       "    .dataframe tbody tr th {\n",
       "        vertical-align: top;\n",
       "    }\n",
       "\n",
       "    .dataframe thead th {\n",
       "        text-align: right;\n",
       "    }\n",
       "</style>\n",
       "<table border=\"1\" class=\"dataframe\">\n",
       "  <thead>\n",
       "    <tr style=\"text-align: right;\">\n",
       "      <th></th>\n",
       "      <th>alpha</th>\n",
       "      <th>error</th>\n",
       "    </tr>\n",
       "  </thead>\n",
       "  <tbody>\n",
       "    <tr>\n",
       "      <th>13</th>\n",
       "      <td>0.14</td>\n",
       "      <td>-19.354776</td>\n",
       "    </tr>\n",
       "  </tbody>\n",
       "</table>\n",
       "</div>"
      ],
      "text/plain": [
       "    alpha      error\n",
       "13   0.14 -19.354776"
      ]
     },
     "execution_count": 56,
     "metadata": {},
     "output_type": "execute_result"
    }
   ],
   "source": [
    "errors = tuple(zip(alpha,error))\n",
    "all_errors = pd.DataFrame(errors, columns = ['alpha','error'])\n",
    "all_errors[all_errors[\"error\"] == max(all_errors[\"error\"])]                # lowest error"
   ]
  },
  {
   "cell_type": "markdown",
   "id": "087368dc",
   "metadata": {},
   "source": [
    "### from the above elbow method we can tell that, for alpha~0.13 we are getting lowest error"
   ]
  },
  {
   "cell_type": "code",
   "execution_count": 57,
   "id": "dd88bf6c",
   "metadata": {},
   "outputs": [
    {
     "data": {
      "text/plain": [
       "Lasso(alpha=0.14)"
      ]
     },
     "execution_count": 57,
     "metadata": {},
     "output_type": "execute_result"
    }
   ],
   "source": [
    "lasso_regressor = Lasso(alpha=.14)                                   # Model Initialization\n",
    "lasso_regressor.fit(X_train,y_train)"
   ]
  },
  {
   "cell_type": "code",
   "execution_count": 58,
   "id": "8b7175e1",
   "metadata": {},
   "outputs": [],
   "source": [
    "lasso_score=cross_val_score(lasso_regressor,X_train, y_train, scoring = \"neg_mean_absolute_error\",cv = 3)"
   ]
  },
  {
   "cell_type": "code",
   "execution_count": 59,
   "id": "ae5c8862",
   "metadata": {},
   "outputs": [],
   "source": [
    "lasso_validation_score=np.mean(lasso_score)"
   ]
  },
  {
   "cell_type": "code",
   "execution_count": 60,
   "id": "d98d3ee9",
   "metadata": {},
   "outputs": [
    {
     "data": {
      "text/plain": [
       "-19.354775538063922"
      ]
     },
     "execution_count": 60,
     "metadata": {},
     "output_type": "execute_result"
    }
   ],
   "source": [
    "lasso_validation_score"
   ]
  },
  {
   "cell_type": "markdown",
   "id": "e4101ebe",
   "metadata": {},
   "source": [
    "## Random Forest"
   ]
  },
  {
   "cell_type": "code",
   "execution_count": 61,
   "id": "7ebb3e89",
   "metadata": {},
   "outputs": [],
   "source": [
    "from sklearn.ensemble import RandomForestRegressor"
   ]
  },
  {
   "cell_type": "code",
   "execution_count": 62,
   "id": "abcf6985",
   "metadata": {},
   "outputs": [],
   "source": [
    "random_forest = RandomForestRegressor()                              # Model Initialization"
   ]
  },
  {
   "cell_type": "code",
   "execution_count": 64,
   "id": "61977e8d",
   "metadata": {},
   "outputs": [],
   "source": [
    "random_forest_score=cross_val_score(random_forest,X_train,y_train,scoring = 'neg_mean_absolute_error', cv= 3)"
   ]
  },
  {
   "cell_type": "code",
   "execution_count": 65,
   "id": "f4ea0888",
   "metadata": {},
   "outputs": [],
   "source": [
    "random_forest_validation_score=np.mean(random_forest_score)"
   ]
  },
  {
   "cell_type": "code",
   "execution_count": 66,
   "id": "37078512",
   "metadata": {},
   "outputs": [
    {
     "data": {
      "text/plain": [
       "-15.300929814216616"
      ]
     },
     "execution_count": 66,
     "metadata": {},
     "output_type": "execute_result"
    }
   ],
   "source": [
    "random_forest_validation_score"
   ]
  },
  {
   "cell_type": "code",
   "execution_count": 67,
   "id": "ebb64d93",
   "metadata": {},
   "outputs": [],
   "source": [
    "# Hyper parameter optimization\n",
    "from sklearn.model_selection import GridSearchCV\n",
    "parameters = {'n_estimators':range(0,250,10), 'criterion':('mse','mae'), 'max_features':('auto','sqrt','log2')}"
   ]
  },
  {
   "cell_type": "code",
   "execution_count": 68,
   "id": "644fdf2b",
   "metadata": {},
   "outputs": [
    {
     "name": "stderr",
     "output_type": "stream",
     "text": [
      "C:\\Users\\dell\\AppData\\Local\\Programs\\Python\\Python37\\lib\\site-packages\\sklearn\\model_selection\\_validation.py:552: FitFailedWarning: Estimator fit failed. The score on this train-test partition for these parameters will be set to nan. Details: \n",
      "Traceback (most recent call last):\n",
      "  File \"C:\\Users\\dell\\AppData\\Local\\Programs\\Python\\Python37\\lib\\site-packages\\sklearn\\model_selection\\_validation.py\", line 531, in _fit_and_score\n",
      "    estimator.fit(X_train, y_train, **fit_params)\n",
      "  File \"C:\\Users\\dell\\AppData\\Local\\Programs\\Python\\Python37\\lib\\site-packages\\sklearn\\ensemble\\_forest.py\", line 348, in fit\n",
      "    self._validate_estimator()\n",
      "  File \"C:\\Users\\dell\\AppData\\Local\\Programs\\Python\\Python37\\lib\\site-packages\\sklearn\\ensemble\\_base.py\", line 135, in _validate_estimator\n",
      "    \"got {0}.\".format(self.n_estimators))\n",
      "ValueError: n_estimators must be greater than zero, got 0.\n",
      "\n",
      "  FitFailedWarning)\n",
      "C:\\Users\\dell\\AppData\\Local\\Programs\\Python\\Python37\\lib\\site-packages\\sklearn\\model_selection\\_validation.py:552: FitFailedWarning: Estimator fit failed. The score on this train-test partition for these parameters will be set to nan. Details: \n",
      "Traceback (most recent call last):\n",
      "  File \"C:\\Users\\dell\\AppData\\Local\\Programs\\Python\\Python37\\lib\\site-packages\\sklearn\\model_selection\\_validation.py\", line 531, in _fit_and_score\n",
      "    estimator.fit(X_train, y_train, **fit_params)\n",
      "  File \"C:\\Users\\dell\\AppData\\Local\\Programs\\Python\\Python37\\lib\\site-packages\\sklearn\\ensemble\\_forest.py\", line 348, in fit\n",
      "    self._validate_estimator()\n",
      "  File \"C:\\Users\\dell\\AppData\\Local\\Programs\\Python\\Python37\\lib\\site-packages\\sklearn\\ensemble\\_base.py\", line 135, in _validate_estimator\n",
      "    \"got {0}.\".format(self.n_estimators))\n",
      "ValueError: n_estimators must be greater than zero, got 0.\n",
      "\n",
      "  FitFailedWarning)\n",
      "C:\\Users\\dell\\AppData\\Local\\Programs\\Python\\Python37\\lib\\site-packages\\sklearn\\model_selection\\_validation.py:552: FitFailedWarning: Estimator fit failed. The score on this train-test partition for these parameters will be set to nan. Details: \n",
      "Traceback (most recent call last):\n",
      "  File \"C:\\Users\\dell\\AppData\\Local\\Programs\\Python\\Python37\\lib\\site-packages\\sklearn\\model_selection\\_validation.py\", line 531, in _fit_and_score\n",
      "    estimator.fit(X_train, y_train, **fit_params)\n",
      "  File \"C:\\Users\\dell\\AppData\\Local\\Programs\\Python\\Python37\\lib\\site-packages\\sklearn\\ensemble\\_forest.py\", line 348, in fit\n",
      "    self._validate_estimator()\n",
      "  File \"C:\\Users\\dell\\AppData\\Local\\Programs\\Python\\Python37\\lib\\site-packages\\sklearn\\ensemble\\_base.py\", line 135, in _validate_estimator\n",
      "    \"got {0}.\".format(self.n_estimators))\n",
      "ValueError: n_estimators must be greater than zero, got 0.\n",
      "\n",
      "  FitFailedWarning)\n",
      "C:\\Users\\dell\\AppData\\Local\\Programs\\Python\\Python37\\lib\\site-packages\\sklearn\\model_selection\\_validation.py:552: FitFailedWarning: Estimator fit failed. The score on this train-test partition for these parameters will be set to nan. Details: \n",
      "Traceback (most recent call last):\n",
      "  File \"C:\\Users\\dell\\AppData\\Local\\Programs\\Python\\Python37\\lib\\site-packages\\sklearn\\model_selection\\_validation.py\", line 531, in _fit_and_score\n",
      "    estimator.fit(X_train, y_train, **fit_params)\n",
      "  File \"C:\\Users\\dell\\AppData\\Local\\Programs\\Python\\Python37\\lib\\site-packages\\sklearn\\ensemble\\_forest.py\", line 348, in fit\n",
      "    self._validate_estimator()\n",
      "  File \"C:\\Users\\dell\\AppData\\Local\\Programs\\Python\\Python37\\lib\\site-packages\\sklearn\\ensemble\\_base.py\", line 135, in _validate_estimator\n",
      "    \"got {0}.\".format(self.n_estimators))\n",
      "ValueError: n_estimators must be greater than zero, got 0.\n",
      "\n",
      "  FitFailedWarning)\n",
      "C:\\Users\\dell\\AppData\\Local\\Programs\\Python\\Python37\\lib\\site-packages\\sklearn\\model_selection\\_validation.py:552: FitFailedWarning: Estimator fit failed. The score on this train-test partition for these parameters will be set to nan. Details: \n",
      "Traceback (most recent call last):\n",
      "  File \"C:\\Users\\dell\\AppData\\Local\\Programs\\Python\\Python37\\lib\\site-packages\\sklearn\\model_selection\\_validation.py\", line 531, in _fit_and_score\n",
      "    estimator.fit(X_train, y_train, **fit_params)\n",
      "  File \"C:\\Users\\dell\\AppData\\Local\\Programs\\Python\\Python37\\lib\\site-packages\\sklearn\\ensemble\\_forest.py\", line 348, in fit\n",
      "    self._validate_estimator()\n",
      "  File \"C:\\Users\\dell\\AppData\\Local\\Programs\\Python\\Python37\\lib\\site-packages\\sklearn\\ensemble\\_base.py\", line 135, in _validate_estimator\n",
      "    \"got {0}.\".format(self.n_estimators))\n",
      "ValueError: n_estimators must be greater than zero, got 0.\n",
      "\n",
      "  FitFailedWarning)\n",
      "C:\\Users\\dell\\AppData\\Local\\Programs\\Python\\Python37\\lib\\site-packages\\sklearn\\model_selection\\_validation.py:552: FitFailedWarning: Estimator fit failed. The score on this train-test partition for these parameters will be set to nan. Details: \n",
      "Traceback (most recent call last):\n",
      "  File \"C:\\Users\\dell\\AppData\\Local\\Programs\\Python\\Python37\\lib\\site-packages\\sklearn\\model_selection\\_validation.py\", line 531, in _fit_and_score\n",
      "    estimator.fit(X_train, y_train, **fit_params)\n",
      "  File \"C:\\Users\\dell\\AppData\\Local\\Programs\\Python\\Python37\\lib\\site-packages\\sklearn\\ensemble\\_forest.py\", line 348, in fit\n",
      "    self._validate_estimator()\n",
      "  File \"C:\\Users\\dell\\AppData\\Local\\Programs\\Python\\Python37\\lib\\site-packages\\sklearn\\ensemble\\_base.py\", line 135, in _validate_estimator\n",
      "    \"got {0}.\".format(self.n_estimators))\n",
      "ValueError: n_estimators must be greater than zero, got 0.\n",
      "\n",
      "  FitFailedWarning)\n",
      "C:\\Users\\dell\\AppData\\Local\\Programs\\Python\\Python37\\lib\\site-packages\\sklearn\\model_selection\\_validation.py:552: FitFailedWarning: Estimator fit failed. The score on this train-test partition for these parameters will be set to nan. Details: \n",
      "Traceback (most recent call last):\n",
      "  File \"C:\\Users\\dell\\AppData\\Local\\Programs\\Python\\Python37\\lib\\site-packages\\sklearn\\model_selection\\_validation.py\", line 531, in _fit_and_score\n",
      "    estimator.fit(X_train, y_train, **fit_params)\n",
      "  File \"C:\\Users\\dell\\AppData\\Local\\Programs\\Python\\Python37\\lib\\site-packages\\sklearn\\ensemble\\_forest.py\", line 348, in fit\n",
      "    self._validate_estimator()\n",
      "  File \"C:\\Users\\dell\\AppData\\Local\\Programs\\Python\\Python37\\lib\\site-packages\\sklearn\\ensemble\\_base.py\", line 135, in _validate_estimator\n",
      "    \"got {0}.\".format(self.n_estimators))\n",
      "ValueError: n_estimators must be greater than zero, got 0.\n",
      "\n",
      "  FitFailedWarning)\n",
      "C:\\Users\\dell\\AppData\\Local\\Programs\\Python\\Python37\\lib\\site-packages\\sklearn\\model_selection\\_validation.py:552: FitFailedWarning: Estimator fit failed. The score on this train-test partition for these parameters will be set to nan. Details: \n",
      "Traceback (most recent call last):\n",
      "  File \"C:\\Users\\dell\\AppData\\Local\\Programs\\Python\\Python37\\lib\\site-packages\\sklearn\\model_selection\\_validation.py\", line 531, in _fit_and_score\n",
      "    estimator.fit(X_train, y_train, **fit_params)\n",
      "  File \"C:\\Users\\dell\\AppData\\Local\\Programs\\Python\\Python37\\lib\\site-packages\\sklearn\\ensemble\\_forest.py\", line 348, in fit\n",
      "    self._validate_estimator()\n",
      "  File \"C:\\Users\\dell\\AppData\\Local\\Programs\\Python\\Python37\\lib\\site-packages\\sklearn\\ensemble\\_base.py\", line 135, in _validate_estimator\n",
      "    \"got {0}.\".format(self.n_estimators))\n",
      "ValueError: n_estimators must be greater than zero, got 0.\n",
      "\n",
      "  FitFailedWarning)\n",
      "C:\\Users\\dell\\AppData\\Local\\Programs\\Python\\Python37\\lib\\site-packages\\sklearn\\model_selection\\_validation.py:552: FitFailedWarning: Estimator fit failed. The score on this train-test partition for these parameters will be set to nan. Details: \n",
      "Traceback (most recent call last):\n",
      "  File \"C:\\Users\\dell\\AppData\\Local\\Programs\\Python\\Python37\\lib\\site-packages\\sklearn\\model_selection\\_validation.py\", line 531, in _fit_and_score\n",
      "    estimator.fit(X_train, y_train, **fit_params)\n",
      "  File \"C:\\Users\\dell\\AppData\\Local\\Programs\\Python\\Python37\\lib\\site-packages\\sklearn\\ensemble\\_forest.py\", line 348, in fit\n",
      "    self._validate_estimator()\n",
      "  File \"C:\\Users\\dell\\AppData\\Local\\Programs\\Python\\Python37\\lib\\site-packages\\sklearn\\ensemble\\_base.py\", line 135, in _validate_estimator\n",
      "    \"got {0}.\".format(self.n_estimators))\n",
      "ValueError: n_estimators must be greater than zero, got 0.\n",
      "\n",
      "  FitFailedWarning)\n",
      "C:\\Users\\dell\\AppData\\Local\\Programs\\Python\\Python37\\lib\\site-packages\\sklearn\\model_selection\\_validation.py:552: FitFailedWarning: Estimator fit failed. The score on this train-test partition for these parameters will be set to nan. Details: \n",
      "Traceback (most recent call last):\n",
      "  File \"C:\\Users\\dell\\AppData\\Local\\Programs\\Python\\Python37\\lib\\site-packages\\sklearn\\model_selection\\_validation.py\", line 531, in _fit_and_score\n",
      "    estimator.fit(X_train, y_train, **fit_params)\n",
      "  File \"C:\\Users\\dell\\AppData\\Local\\Programs\\Python\\Python37\\lib\\site-packages\\sklearn\\ensemble\\_forest.py\", line 348, in fit\n",
      "    self._validate_estimator()\n",
      "  File \"C:\\Users\\dell\\AppData\\Local\\Programs\\Python\\Python37\\lib\\site-packages\\sklearn\\ensemble\\_base.py\", line 135, in _validate_estimator\n",
      "    \"got {0}.\".format(self.n_estimators))\n",
      "ValueError: n_estimators must be greater than zero, got 0.\n",
      "\n",
      "  FitFailedWarning)\n",
      "C:\\Users\\dell\\AppData\\Local\\Programs\\Python\\Python37\\lib\\site-packages\\sklearn\\model_selection\\_validation.py:552: FitFailedWarning: Estimator fit failed. The score on this train-test partition for these parameters will be set to nan. Details: \n",
      "Traceback (most recent call last):\n",
      "  File \"C:\\Users\\dell\\AppData\\Local\\Programs\\Python\\Python37\\lib\\site-packages\\sklearn\\model_selection\\_validation.py\", line 531, in _fit_and_score\n",
      "    estimator.fit(X_train, y_train, **fit_params)\n",
      "  File \"C:\\Users\\dell\\AppData\\Local\\Programs\\Python\\Python37\\lib\\site-packages\\sklearn\\ensemble\\_forest.py\", line 348, in fit\n",
      "    self._validate_estimator()\n",
      "  File \"C:\\Users\\dell\\AppData\\Local\\Programs\\Python\\Python37\\lib\\site-packages\\sklearn\\ensemble\\_base.py\", line 135, in _validate_estimator\n",
      "    \"got {0}.\".format(self.n_estimators))\n",
      "ValueError: n_estimators must be greater than zero, got 0.\n",
      "\n",
      "  FitFailedWarning)\n",
      "C:\\Users\\dell\\AppData\\Local\\Programs\\Python\\Python37\\lib\\site-packages\\sklearn\\model_selection\\_validation.py:552: FitFailedWarning: Estimator fit failed. The score on this train-test partition for these parameters will be set to nan. Details: \n",
      "Traceback (most recent call last):\n",
      "  File \"C:\\Users\\dell\\AppData\\Local\\Programs\\Python\\Python37\\lib\\site-packages\\sklearn\\model_selection\\_validation.py\", line 531, in _fit_and_score\n",
      "    estimator.fit(X_train, y_train, **fit_params)\n",
      "  File \"C:\\Users\\dell\\AppData\\Local\\Programs\\Python\\Python37\\lib\\site-packages\\sklearn\\ensemble\\_forest.py\", line 348, in fit\n",
      "    self._validate_estimator()\n",
      "  File \"C:\\Users\\dell\\AppData\\Local\\Programs\\Python\\Python37\\lib\\site-packages\\sklearn\\ensemble\\_base.py\", line 135, in _validate_estimator\n",
      "    \"got {0}.\".format(self.n_estimators))\n",
      "ValueError: n_estimators must be greater than zero, got 0.\n",
      "\n",
      "  FitFailedWarning)\n"
     ]
    },
    {
     "name": "stderr",
     "output_type": "stream",
     "text": [
      "C:\\Users\\dell\\AppData\\Local\\Programs\\Python\\Python37\\lib\\site-packages\\sklearn\\model_selection\\_validation.py:552: FitFailedWarning: Estimator fit failed. The score on this train-test partition for these parameters will be set to nan. Details: \n",
      "Traceback (most recent call last):\n",
      "  File \"C:\\Users\\dell\\AppData\\Local\\Programs\\Python\\Python37\\lib\\site-packages\\sklearn\\model_selection\\_validation.py\", line 531, in _fit_and_score\n",
      "    estimator.fit(X_train, y_train, **fit_params)\n",
      "  File \"C:\\Users\\dell\\AppData\\Local\\Programs\\Python\\Python37\\lib\\site-packages\\sklearn\\ensemble\\_forest.py\", line 348, in fit\n",
      "    self._validate_estimator()\n",
      "  File \"C:\\Users\\dell\\AppData\\Local\\Programs\\Python\\Python37\\lib\\site-packages\\sklearn\\ensemble\\_base.py\", line 135, in _validate_estimator\n",
      "    \"got {0}.\".format(self.n_estimators))\n",
      "ValueError: n_estimators must be greater than zero, got 0.\n",
      "\n",
      "  FitFailedWarning)\n",
      "C:\\Users\\dell\\AppData\\Local\\Programs\\Python\\Python37\\lib\\site-packages\\sklearn\\model_selection\\_validation.py:552: FitFailedWarning: Estimator fit failed. The score on this train-test partition for these parameters will be set to nan. Details: \n",
      "Traceback (most recent call last):\n",
      "  File \"C:\\Users\\dell\\AppData\\Local\\Programs\\Python\\Python37\\lib\\site-packages\\sklearn\\model_selection\\_validation.py\", line 531, in _fit_and_score\n",
      "    estimator.fit(X_train, y_train, **fit_params)\n",
      "  File \"C:\\Users\\dell\\AppData\\Local\\Programs\\Python\\Python37\\lib\\site-packages\\sklearn\\ensemble\\_forest.py\", line 348, in fit\n",
      "    self._validate_estimator()\n",
      "  File \"C:\\Users\\dell\\AppData\\Local\\Programs\\Python\\Python37\\lib\\site-packages\\sklearn\\ensemble\\_base.py\", line 135, in _validate_estimator\n",
      "    \"got {0}.\".format(self.n_estimators))\n",
      "ValueError: n_estimators must be greater than zero, got 0.\n",
      "\n",
      "  FitFailedWarning)\n",
      "C:\\Users\\dell\\AppData\\Local\\Programs\\Python\\Python37\\lib\\site-packages\\sklearn\\model_selection\\_validation.py:552: FitFailedWarning: Estimator fit failed. The score on this train-test partition for these parameters will be set to nan. Details: \n",
      "Traceback (most recent call last):\n",
      "  File \"C:\\Users\\dell\\AppData\\Local\\Programs\\Python\\Python37\\lib\\site-packages\\sklearn\\model_selection\\_validation.py\", line 531, in _fit_and_score\n",
      "    estimator.fit(X_train, y_train, **fit_params)\n",
      "  File \"C:\\Users\\dell\\AppData\\Local\\Programs\\Python\\Python37\\lib\\site-packages\\sklearn\\ensemble\\_forest.py\", line 348, in fit\n",
      "    self._validate_estimator()\n",
      "  File \"C:\\Users\\dell\\AppData\\Local\\Programs\\Python\\Python37\\lib\\site-packages\\sklearn\\ensemble\\_base.py\", line 135, in _validate_estimator\n",
      "    \"got {0}.\".format(self.n_estimators))\n",
      "ValueError: n_estimators must be greater than zero, got 0.\n",
      "\n",
      "  FitFailedWarning)\n",
      "C:\\Users\\dell\\AppData\\Local\\Programs\\Python\\Python37\\lib\\site-packages\\sklearn\\model_selection\\_validation.py:552: FitFailedWarning: Estimator fit failed. The score on this train-test partition for these parameters will be set to nan. Details: \n",
      "Traceback (most recent call last):\n",
      "  File \"C:\\Users\\dell\\AppData\\Local\\Programs\\Python\\Python37\\lib\\site-packages\\sklearn\\model_selection\\_validation.py\", line 531, in _fit_and_score\n",
      "    estimator.fit(X_train, y_train, **fit_params)\n",
      "  File \"C:\\Users\\dell\\AppData\\Local\\Programs\\Python\\Python37\\lib\\site-packages\\sklearn\\ensemble\\_forest.py\", line 348, in fit\n",
      "    self._validate_estimator()\n",
      "  File \"C:\\Users\\dell\\AppData\\Local\\Programs\\Python\\Python37\\lib\\site-packages\\sklearn\\ensemble\\_base.py\", line 135, in _validate_estimator\n",
      "    \"got {0}.\".format(self.n_estimators))\n",
      "ValueError: n_estimators must be greater than zero, got 0.\n",
      "\n",
      "  FitFailedWarning)\n",
      "C:\\Users\\dell\\AppData\\Local\\Programs\\Python\\Python37\\lib\\site-packages\\sklearn\\model_selection\\_validation.py:552: FitFailedWarning: Estimator fit failed. The score on this train-test partition for these parameters will be set to nan. Details: \n",
      "Traceback (most recent call last):\n",
      "  File \"C:\\Users\\dell\\AppData\\Local\\Programs\\Python\\Python37\\lib\\site-packages\\sklearn\\model_selection\\_validation.py\", line 531, in _fit_and_score\n",
      "    estimator.fit(X_train, y_train, **fit_params)\n",
      "  File \"C:\\Users\\dell\\AppData\\Local\\Programs\\Python\\Python37\\lib\\site-packages\\sklearn\\ensemble\\_forest.py\", line 348, in fit\n",
      "    self._validate_estimator()\n",
      "  File \"C:\\Users\\dell\\AppData\\Local\\Programs\\Python\\Python37\\lib\\site-packages\\sklearn\\ensemble\\_base.py\", line 135, in _validate_estimator\n",
      "    \"got {0}.\".format(self.n_estimators))\n",
      "ValueError: n_estimators must be greater than zero, got 0.\n",
      "\n",
      "  FitFailedWarning)\n",
      "C:\\Users\\dell\\AppData\\Local\\Programs\\Python\\Python37\\lib\\site-packages\\sklearn\\model_selection\\_validation.py:552: FitFailedWarning: Estimator fit failed. The score on this train-test partition for these parameters will be set to nan. Details: \n",
      "Traceback (most recent call last):\n",
      "  File \"C:\\Users\\dell\\AppData\\Local\\Programs\\Python\\Python37\\lib\\site-packages\\sklearn\\model_selection\\_validation.py\", line 531, in _fit_and_score\n",
      "    estimator.fit(X_train, y_train, **fit_params)\n",
      "  File \"C:\\Users\\dell\\AppData\\Local\\Programs\\Python\\Python37\\lib\\site-packages\\sklearn\\ensemble\\_forest.py\", line 348, in fit\n",
      "    self._validate_estimator()\n",
      "  File \"C:\\Users\\dell\\AppData\\Local\\Programs\\Python\\Python37\\lib\\site-packages\\sklearn\\ensemble\\_base.py\", line 135, in _validate_estimator\n",
      "    \"got {0}.\".format(self.n_estimators))\n",
      "ValueError: n_estimators must be greater than zero, got 0.\n",
      "\n",
      "  FitFailedWarning)\n"
     ]
    },
    {
     "data": {
      "text/plain": [
       "GridSearchCV(cv=3, estimator=RandomForestRegressor(),\n",
       "             param_grid={'criterion': ('mse', 'mae'),\n",
       "                         'max_features': ('auto', 'sqrt', 'log2'),\n",
       "                         'n_estimators': range(0, 250, 10)},\n",
       "             scoring='neg_mean_absolute_error')"
      ]
     },
     "execution_count": 68,
     "metadata": {},
     "output_type": "execute_result"
    }
   ],
   "source": [
    "model = GridSearchCV(random_forest,parameters,scoring='neg_mean_absolute_error',cv=3)\n",
    "model.fit(X_train,y_train)"
   ]
  },
  {
   "cell_type": "code",
   "execution_count": 69,
   "id": "362771da",
   "metadata": {},
   "outputs": [
    {
     "name": "stdout",
     "output_type": "stream",
     "text": [
      "-14.831393781298603\n"
     ]
    }
   ],
   "source": [
    "print(model.best_score_)"
   ]
  },
  {
   "cell_type": "code",
   "execution_count": 70,
   "id": "b98a6787",
   "metadata": {},
   "outputs": [
    {
     "name": "stdout",
     "output_type": "stream",
     "text": [
      "RandomForestRegressor(n_estimators=120)\n"
     ]
    }
   ],
   "source": [
    "print(model.best_estimator_)"
   ]
  },
  {
   "cell_type": "code",
   "execution_count": 71,
   "id": "88d36ccb",
   "metadata": {},
   "outputs": [],
   "source": [
    "pred_by_linearRegressor = linear_regressor.predict(X_test)\n",
    "pred_by_lassoRegressor = lasso_regressor.predict(X_test)\n",
    "pred_by_RandomForestRegressor = model.best_estimator_.predict(X_test)"
   ]
  },
  {
   "cell_type": "code",
   "execution_count": 72,
   "id": "9f703bd8",
   "metadata": {},
   "outputs": [
    {
     "name": "stdout",
     "output_type": "stream",
     "text": [
      "Mean Absolute Errors of the above models:\n",
      "predictions by Linear Regressor:  18.948595225508196\n",
      "predictions by Lasso Regression:  19.91039709777111\n",
      "predictions by Random Forest Regressor 11.148014541387024\n"
     ]
    }
   ],
   "source": [
    "from sklearn.metrics import mean_absolute_error\n",
    "print(\"Mean Absolute Errors of the above models:\")\n",
    "print(\"predictions by Linear Regressor: \",mean_absolute_error(y_test,pred_by_linearRegressor))\n",
    "print(\"predictions by Lasso Regression: \",mean_absolute_error(y_test,pred_by_lassoRegressor))\n",
    "print(\"predictions by Random Forest Regressor\",mean_absolute_error(y_test,pred_by_RandomForestRegressor))"
   ]
  },
  {
   "cell_type": "code",
   "execution_count": 73,
   "id": "2fb5afe4",
   "metadata": {},
   "outputs": [],
   "source": [
    "import pickle"
   ]
  },
  {
   "cell_type": "code",
   "execution_count": 75,
   "id": "16d8a4f6",
   "metadata": {},
   "outputs": [],
   "source": [
    "pickle_file = {'model': model.best_estimator_}\n",
    "pickle.dump( pickle_file, open( 'optimized_model' + \".pickle\", \"wb\" ) )\n"
   ]
  },
  {
   "cell_type": "code",
   "execution_count": 76,
   "id": "196c807b",
   "metadata": {},
   "outputs": [],
   "source": [
    "file_name = \"optimized_model.pickle\"\n",
    "with open(file_name, 'rb') as output:\n",
    "    data = pickle.load(output)\n",
    "    loaded_model=data['model']"
   ]
  },
  {
   "cell_type": "code",
   "execution_count": 80,
   "id": "cadc9213",
   "metadata": {},
   "outputs": [
    {
     "data": {
      "text/plain": [
       "51.604166666666664"
      ]
     },
     "execution_count": 80,
     "metadata": {},
     "output_type": "execute_result"
    }
   ],
   "source": [
    "loaded_model.predict(np.array(list(X_test.iloc[1,:])).reshape(1,-1))[0]\n"
   ]
  },
  {
   "cell_type": "markdown",
   "id": "64bfd000",
   "metadata": {},
   "source": [
    "### for the above employee the average salary is 52k $ approx"
   ]
  }
 ],
 "metadata": {
  "kernelspec": {
   "display_name": "Python 3",
   "language": "python",
   "name": "python3"
  },
  "language_info": {
   "codemirror_mode": {
    "name": "ipython",
    "version": 3
   },
   "file_extension": ".py",
   "mimetype": "text/x-python",
   "name": "python",
   "nbconvert_exporter": "python",
   "pygments_lexer": "ipython3",
   "version": "3.7.6"
  }
 },
 "nbformat": 4,
 "nbformat_minor": 5
}
