{
 "cells": [
  {
   "cell_type": "code",
   "execution_count": 1,
   "id": "c7134de8",
   "metadata": {},
   "outputs": [],
   "source": [
    "import pandas as pd\n",
    "import matplotlib as mpl\n",
    "from datetime import *"
   ]
  },
  {
   "cell_type": "code",
   "execution_count": 2,
   "id": "5af49e41",
   "metadata": {},
   "outputs": [],
   "source": [
    "#Reading CSV file\n",
    "df = pd.read_csv(\"C:\\\\Users\\\\karth\\\\glassdoors_dataset.csv\")"
   ]
  },
  {
   "cell_type": "code",
   "execution_count": 3,
   "id": "78ebdc30",
   "metadata": {},
   "outputs": [
    {
     "data": {
      "text/html": [
       "<div>\n",
       "<style scoped>\n",
       "    .dataframe tbody tr th:only-of-type {\n",
       "        vertical-align: middle;\n",
       "    }\n",
       "\n",
       "    .dataframe tbody tr th {\n",
       "        vertical-align: top;\n",
       "    }\n",
       "\n",
       "    .dataframe thead th {\n",
       "        text-align: right;\n",
       "    }\n",
       "</style>\n",
       "<table border=\"1\" class=\"dataframe\">\n",
       "  <thead>\n",
       "    <tr style=\"text-align: right;\">\n",
       "      <th></th>\n",
       "      <th>Unnamed: 0</th>\n",
       "      <th>Job Title</th>\n",
       "      <th>Salary Estimate</th>\n",
       "      <th>Job Description</th>\n",
       "      <th>Rating</th>\n",
       "      <th>Company Name</th>\n",
       "      <th>Location</th>\n",
       "      <th>Headquarters</th>\n",
       "      <th>Size</th>\n",
       "      <th>Founded</th>\n",
       "      <th>Type of ownership</th>\n",
       "      <th>Industry</th>\n",
       "      <th>Sector</th>\n",
       "      <th>Revenue</th>\n",
       "      <th>Competitors</th>\n",
       "    </tr>\n",
       "  </thead>\n",
       "  <tbody>\n",
       "    <tr>\n",
       "      <th>0</th>\n",
       "      <td>0</td>\n",
       "      <td>Data Scientist</td>\n",
       "      <td>$53K-$91K (Glassdoor est.)</td>\n",
       "      <td>Data Scientist\\nLocation: Albuquerque, NM\\nEdu...</td>\n",
       "      <td>3.8</td>\n",
       "      <td>Tecolote Research\\n3.8</td>\n",
       "      <td>Albuquerque, NM</td>\n",
       "      <td>Goleta, CA</td>\n",
       "      <td>501 to 1000 employees</td>\n",
       "      <td>1973</td>\n",
       "      <td>Company - Private</td>\n",
       "      <td>Aerospace &amp; Defense</td>\n",
       "      <td>Aerospace &amp; Defense</td>\n",
       "      <td>$50 to $100 million (USD)</td>\n",
       "      <td>-1</td>\n",
       "    </tr>\n",
       "    <tr>\n",
       "      <th>1</th>\n",
       "      <td>1</td>\n",
       "      <td>Healthcare Data Scientist</td>\n",
       "      <td>$63K-$112K (Glassdoor est.)</td>\n",
       "      <td>What You Will Do:\\n\\nI. General Summary\\n\\nThe...</td>\n",
       "      <td>3.4</td>\n",
       "      <td>University of Maryland Medical System\\n3.4</td>\n",
       "      <td>Linthicum, MD</td>\n",
       "      <td>Baltimore, MD</td>\n",
       "      <td>10000+ employees</td>\n",
       "      <td>1984</td>\n",
       "      <td>Other Organization</td>\n",
       "      <td>Health Care Services &amp; Hospitals</td>\n",
       "      <td>Health Care</td>\n",
       "      <td>$2 to $5 billion (USD)</td>\n",
       "      <td>-1</td>\n",
       "    </tr>\n",
       "    <tr>\n",
       "      <th>2</th>\n",
       "      <td>2</td>\n",
       "      <td>Data Scientist</td>\n",
       "      <td>$80K-$90K (Glassdoor est.)</td>\n",
       "      <td>KnowBe4, Inc. is a high growth information sec...</td>\n",
       "      <td>4.8</td>\n",
       "      <td>KnowBe4\\n4.8</td>\n",
       "      <td>Clearwater, FL</td>\n",
       "      <td>Clearwater, FL</td>\n",
       "      <td>501 to 1000 employees</td>\n",
       "      <td>2010</td>\n",
       "      <td>Company - Private</td>\n",
       "      <td>Security Services</td>\n",
       "      <td>Business Services</td>\n",
       "      <td>$100 to $500 million (USD)</td>\n",
       "      <td>-1</td>\n",
       "    </tr>\n",
       "    <tr>\n",
       "      <th>3</th>\n",
       "      <td>3</td>\n",
       "      <td>Data Scientist</td>\n",
       "      <td>$56K-$97K (Glassdoor est.)</td>\n",
       "      <td>*Organization and Job ID**\\nJob ID: 310709\\n\\n...</td>\n",
       "      <td>3.8</td>\n",
       "      <td>PNNL\\n3.8</td>\n",
       "      <td>Richland, WA</td>\n",
       "      <td>Richland, WA</td>\n",
       "      <td>1001 to 5000 employees</td>\n",
       "      <td>1965</td>\n",
       "      <td>Government</td>\n",
       "      <td>Energy</td>\n",
       "      <td>Oil, Gas, Energy &amp; Utilities</td>\n",
       "      <td>$500 million to $1 billion (USD)</td>\n",
       "      <td>Oak Ridge National Laboratory, National Renewa...</td>\n",
       "    </tr>\n",
       "    <tr>\n",
       "      <th>4</th>\n",
       "      <td>4</td>\n",
       "      <td>Data Scientist</td>\n",
       "      <td>$86K-$143K (Glassdoor est.)</td>\n",
       "      <td>Data Scientist\\nAffinity Solutions / Marketing...</td>\n",
       "      <td>2.9</td>\n",
       "      <td>Affinity Solutions\\n2.9</td>\n",
       "      <td>New York, NY</td>\n",
       "      <td>New York, NY</td>\n",
       "      <td>51 to 200 employees</td>\n",
       "      <td>1998</td>\n",
       "      <td>Company - Private</td>\n",
       "      <td>Advertising &amp; Marketing</td>\n",
       "      <td>Business Services</td>\n",
       "      <td>Unknown / Non-Applicable</td>\n",
       "      <td>Commerce Signals, Cardlytics, Yodlee</td>\n",
       "    </tr>\n",
       "  </tbody>\n",
       "</table>\n",
       "</div>"
      ],
      "text/plain": [
       "   Unnamed: 0                  Job Title              Salary Estimate  \\\n",
       "0           0             Data Scientist   $53K-$91K (Glassdoor est.)   \n",
       "1           1  Healthcare Data Scientist  $63K-$112K (Glassdoor est.)   \n",
       "2           2             Data Scientist   $80K-$90K (Glassdoor est.)   \n",
       "3           3             Data Scientist   $56K-$97K (Glassdoor est.)   \n",
       "4           4             Data Scientist  $86K-$143K (Glassdoor est.)   \n",
       "\n",
       "                                     Job Description  Rating  \\\n",
       "0  Data Scientist\\nLocation: Albuquerque, NM\\nEdu...     3.8   \n",
       "1  What You Will Do:\\n\\nI. General Summary\\n\\nThe...     3.4   \n",
       "2  KnowBe4, Inc. is a high growth information sec...     4.8   \n",
       "3  *Organization and Job ID**\\nJob ID: 310709\\n\\n...     3.8   \n",
       "4  Data Scientist\\nAffinity Solutions / Marketing...     2.9   \n",
       "\n",
       "                                 Company Name         Location  \\\n",
       "0                      Tecolote Research\\n3.8  Albuquerque, NM   \n",
       "1  University of Maryland Medical System\\n3.4    Linthicum, MD   \n",
       "2                                KnowBe4\\n4.8   Clearwater, FL   \n",
       "3                                   PNNL\\n3.8     Richland, WA   \n",
       "4                     Affinity Solutions\\n2.9     New York, NY   \n",
       "\n",
       "     Headquarters                    Size  Founded   Type of ownership  \\\n",
       "0      Goleta, CA   501 to 1000 employees     1973   Company - Private   \n",
       "1   Baltimore, MD        10000+ employees     1984  Other Organization   \n",
       "2  Clearwater, FL   501 to 1000 employees     2010   Company - Private   \n",
       "3    Richland, WA  1001 to 5000 employees     1965          Government   \n",
       "4    New York, NY     51 to 200 employees     1998   Company - Private   \n",
       "\n",
       "                           Industry                        Sector  \\\n",
       "0               Aerospace & Defense           Aerospace & Defense   \n",
       "1  Health Care Services & Hospitals                   Health Care   \n",
       "2                 Security Services             Business Services   \n",
       "3                            Energy  Oil, Gas, Energy & Utilities   \n",
       "4           Advertising & Marketing             Business Services   \n",
       "\n",
       "                            Revenue  \\\n",
       "0         $50 to $100 million (USD)   \n",
       "1            $2 to $5 billion (USD)   \n",
       "2        $100 to $500 million (USD)   \n",
       "3  $500 million to $1 billion (USD)   \n",
       "4          Unknown / Non-Applicable   \n",
       "\n",
       "                                         Competitors  \n",
       "0                                                 -1  \n",
       "1                                                 -1  \n",
       "2                                                 -1  \n",
       "3  Oak Ridge National Laboratory, National Renewa...  \n",
       "4               Commerce Signals, Cardlytics, Yodlee  "
      ]
     },
     "execution_count": 3,
     "metadata": {},
     "output_type": "execute_result"
    }
   ],
   "source": [
    "df.head()"
   ]
  },
  {
   "cell_type": "code",
   "execution_count": 4,
   "id": "849ed1ca",
   "metadata": {},
   "outputs": [],
   "source": [
    "#Removing 1st Column named Unnamed\n",
    "df = df.iloc[: , 1:]"
   ]
  },
  {
   "cell_type": "code",
   "execution_count": 5,
   "id": "128af355",
   "metadata": {},
   "outputs": [],
   "source": [
    "#Create Hourly column where the income is per_hour or not\n",
    "df['Hourly'] = df['Salary Estimate'].apply(lambda x:1 if \"per hour\" in x.lower() else 0)\n",
    "#Create Employer_Provided_Salary column where 1 states yes and 0 states no\n",
    "df['Employer_Provided_Salary'] = df['Salary Estimate'].apply(lambda x:1 if \"employer provided\" in x.lower() else 0)"
   ]
  },
  {
   "cell_type": "code",
   "execution_count": 6,
   "id": "d26c4be2",
   "metadata": {},
   "outputs": [
    {
     "name": "stdout",
     "output_type": "stream",
     "text": [
      "956\n"
     ]
    }
   ],
   "source": [
    "found = df['Salary Estimate'].str.contains('-1')\n",
    "print(found.count())"
   ]
  },
  {
   "cell_type": "code",
   "execution_count": 7,
   "id": "6e5a797c",
   "metadata": {},
   "outputs": [],
   "source": [
    "#Filtering rows in the dataframe where the Salary Estimate rows has -1 string in it\n",
    "df = df[df['Salary Estimate']!='-1']"
   ]
  },
  {
   "cell_type": "code",
   "execution_count": 8,
   "id": "b24b6bc1",
   "metadata": {},
   "outputs": [],
   "source": [
    "#Removing the words after the salary range\n",
    "income = df['Salary Estimate'].apply(lambda y: y.split('(')[0])\n",
    "#Replacing $ and K with no space\n",
    "income = income.apply(lambda y: y.replace('$','').replace('K','')) \n",
    "#Replace employer provided salary: and per hour with no space\n",
    "income_hr = income.apply(lambda y: y.lower().replace('employer provided salary:','').replace('per hour',''))"
   ]
  },
  {
   "cell_type": "code",
   "execution_count": 9,
   "id": "bf0be554",
   "metadata": {},
   "outputs": [],
   "source": [
    "#Taking and Multiplying doubling the maximum income if role has hourly wages\n",
    "df['maximum_income'] = income_hr.apply(lambda y: int(y.split('-')[1]))\n",
    "df['maximum_income'] = df.apply(lambda x: x.maximum_income*2 if x.Hourly == 1 else x.maximum_income, axis = 1)"
   ]
  },
  {
   "cell_type": "code",
   "execution_count": 10,
   "id": "e262187c",
   "metadata": {},
   "outputs": [],
   "source": [
    "#Taking and Multiplying doubling the minimum income if role has hourly wages\n",
    "df['minimum_income'] = income_hr.apply(lambda y: int(y.split('-')[0]))\n",
    "df['minimum_income'] = df.apply(lambda x: x.minimum_income*2 if x.Hourly == 1 else x.minimum_income, axis = 1)"
   ]
  },
  {
   "cell_type": "code",
   "execution_count": 11,
   "id": "d4d33da5",
   "metadata": {},
   "outputs": [],
   "source": [
    "#Calculating average income if role has hourly wages\n",
    "df['average_income'] = (df['minimum_income']+df['maximum_income'])/2\n",
    "df['average_income'] = df.apply(lambda x: (x.minimum_income+x.maximum_income)/2 if x.Hourly == 1 else x.average_income, axis = 1)"
   ]
  },
  {
   "cell_type": "code",
   "execution_count": 12,
   "id": "b564c9df",
   "metadata": {},
   "outputs": [],
   "source": [
    "#Calculating the Companys' age\n",
    "df['Company_Age'] = df['Founded'].apply(lambda x: int(2020-x))\n",
    "df['Company_Age'] = df['Company_Age'].replace(to_replace = 2021,value= -1)"
   ]
  },
  {
   "cell_type": "code",
   "execution_count": 13,
   "id": "61971864",
   "metadata": {},
   "outputs": [
    {
     "data": {
      "text/plain": [
       "array(['Albuquerque, NM', 'Linthicum, MD', 'Clearwater, FL',\n",
       "       'Richland, WA', 'New York, NY', 'Dallas, TX', 'Baltimore, MD',\n",
       "       'San Jose, CA', 'Rochester, NY', 'Chantilly, VA', 'Plano, TX',\n",
       "       'Seattle, WA', 'Cambridge, MA', 'Newark, NJ', 'Mountain View, CA',\n",
       "       'San Francisco, CA', 'Denver, CO', 'Chicago, IL', 'Louisville, KY',\n",
       "       'Herndon, VA', 'Hillsboro, OR', 'Worcester, MA', 'Groton, CT',\n",
       "       'Detroit, MI', 'Sunnyvale, CA', 'Ipswich, MA', 'Redlands, CA',\n",
       "       'Woburn, MA', 'Fremont, CA', 'Long Beach, NY', 'Marlborough, MA',\n",
       "       'Allendale, NJ', 'Washington, DC', 'Bellevue, WA', 'Longmont, CO',\n",
       "       'Beavercreek, OH', 'Peoria, IL', 'Fort Lauderdale, FL',\n",
       "       'Boston, MA', 'Huntsville, AL', 'Armonk, NY', 'San Diego, CA',\n",
       "       'Saint Louis, MO', 'Cincinnati, OH', 'Palo Alto, CA',\n",
       "       'Coraopolis, PA', 'Framingham, MA', 'Atlanta, GA',\n",
       "       'Philadelphia, PA', 'Vancouver, WA', 'Indianapolis, IN',\n",
       "       'Lake Forest, IL', 'Maryland Heights, MO', 'Charlottesville, VA',\n",
       "       'Pittsburgh, PA', 'Harrisburg, PA', 'Laurel, MD', 'Arlington, VA',\n",
       "       'Tacoma, WA', 'Miami, FL', 'New Orleans, LA', 'Landover, MD',\n",
       "       'Patuxent River, MD', 'Suitland, MD', 'McLean, VA',\n",
       "       'Fort Belvoir, VA', 'Milwaukee, WI', 'Silver Spring, MD',\n",
       "       'Syracuse, NY', 'Houston, TX', 'Charlotte, NC', 'Southfield, MI',\n",
       "       'Matawan, NJ', 'Phoenix, AZ', 'Omaha, NE', 'Lyndhurst, NJ',\n",
       "       'Atlanta, IN', 'Rockville, MD', 'Minneapolis, MN',\n",
       "       'Los Angeles, CA', 'Alabaster, AL',\n",
       "       'Santa Fe Springs, Los Angeles, CA', 'Kansas City, MO',\n",
       "       'Ashburn, VA', 'Fort Worth, TX', 'Valencia, CA', 'Novato, CA',\n",
       "       'Aurora, CO', 'Tampa, FL', 'Riverton, UT', 'Chattanooga, TN',\n",
       "       'Ewing, NJ', 'South San Francisco, CA', 'Cupertino, CA',\n",
       "       'Frederick, MD', 'West Reading, PA', 'Madison, WI', 'Dearborn, MI',\n",
       "       'Winter Park, FL', 'San Rafael, CA', 'Hamilton, NJ',\n",
       "       'Woodbridge, NJ', 'Lewes, DE', 'Springfield, MO', 'Burbank, CA',\n",
       "       'Newton, MA', 'Salt Lake City, UT', 'Lafayette, LA',\n",
       "       'Annapolis Junction, MD', 'Highland, CA', 'Burleson, TX',\n",
       "       'Hoopeston, IL', 'Scotts Valley, CA', 'Knoxville, TN',\n",
       "       'Millville, DE', 'Sheboygan, WI', 'San Mateo, CA', 'Dayton, OH',\n",
       "       'Parlier, CA', 'Meridian, ID', 'Cherry Hill, NJ', 'Nashville, TN',\n",
       "       'Portland, OR', 'Port Washington, NY', 'Austin, TX',\n",
       "       'Providence, RI', 'Raleigh, NC', 'Phila, PA', 'Oakland, CA',\n",
       "       'Boise, ID', 'Oak Ridge, TN', 'Agoura Hills, CA', 'Pella, IA',\n",
       "       'San Ramon, CA', 'Red Bank, NJ', 'Columbia, SC', 'Springfield, MA',\n",
       "       'San Antonio, TX', 'Portsmouth, VA', 'West Palm Beach, FL',\n",
       "       'Exton, PA', 'Alexandria, VA', 'Owensboro, KY', 'Hartford, CT',\n",
       "       'Orange, CA', 'Lenexa, KS', 'Concord, CA', 'Vail, CO',\n",
       "       'Natick, MA', 'Winston-Salem, NC', 'Richfield, OH', 'Hampton, VA',\n",
       "       'Ithaca, NY', 'Marietta, GA', 'Quincy, MA', 'Green Bay, WI',\n",
       "       'Durham, NC', 'Clovis, CA', 'Chandler, AZ', 'Orlando, FL',\n",
       "       'Columbia, MO', 'Westlake, OH', 'Des Moines, IA',\n",
       "       'Cedar Rapids, IA', 'Fort Lee, NJ', 'Blue Bell, PA',\n",
       "       'Springfield, VA', 'Jersey City, NJ', 'Emeryville, CA',\n",
       "       'Santa Barbara, CA', 'Carle Place, NY', 'King of Prussia, PA',\n",
       "       'Santa Clara, CA', 'Brisbane, CA', 'Foster City, CA',\n",
       "       'Holyoke, MA', 'Waltham, MA', 'Corvallis, OR', 'Gaithersburg, MD',\n",
       "       'Bedford, MA', 'Aliso Viejo, CA', 'Dublin, CA', 'Arvada, CO',\n",
       "       'Franklin, TN', 'Plymouth Meeting, PA', 'Allentown, PA',\n",
       "       'Logan, UT', 'Birmingham, AL', 'Reston, VA', 'Scottsdale, AZ',\n",
       "       'Bloomington, IL', 'Alameda, CA', 'Roanoke, VA', 'Glen Burnie, MD',\n",
       "       'Milpitas, CA', 'Watertown, MA', 'Cambridge, MD', 'Irvine, CA',\n",
       "       'Ann Arbor, MI', 'Olympia, WA'], dtype=object)"
      ]
     },
     "execution_count": 13,
     "metadata": {},
     "output_type": "execute_result"
    }
   ],
   "source": [
    "df['Location'].unique()"
   ]
  },
  {
   "cell_type": "code",
   "execution_count": 14,
   "id": "1818fd09",
   "metadata": {},
   "outputs": [],
   "source": [
    "#Splitting State and City\n",
    "df['State'] = df['Location'].apply(lambda y: y.split(\",\")[1])\n",
    "df['State'] = df['State'].apply(lambda y: y.strip() if y.strip().lower()!= \"los angeles\" else \"CA\")\n",
    "df['City'] = df['Location'].apply(lambda y: y.split(\",\")[0])"
   ]
  },
  {
   "cell_type": "code",
   "execution_count": 15,
   "id": "2debaf3d",
   "metadata": {},
   "outputs": [],
   "source": [
    "#Location of the Job\n",
    "df['location_job'] = df.apply(lambda y: 1 if y.Location == y.Headquarters else 0, axis  = 1)"
   ]
  },
  {
   "cell_type": "code",
   "execution_count": 16,
   "id": "669e2645",
   "metadata": {},
   "outputs": [],
   "source": [
    "#Companys' name\n",
    "df['Company_name'] = df.apply(lambda y: y['Company Name'] if y['Rating'] <0 else y['Company Name'][:-3], axis = 1)\n",
    "df['Company_name'] = df['Company_name'].apply(lambda y: y.split(\"\\n\")[0])"
   ]
  },
  {
   "cell_type": "code",
   "execution_count": 17,
   "id": "0b687a01",
   "metadata": {},
   "outputs": [],
   "source": [
    "#Calculating the number of competitors\n",
    "df['Competitors_Number'] = df['Competitors'].apply(lambda y: len(y.split(\",\")) if y!='-1' else 0)"
   ]
  },
  {
   "cell_type": "code",
   "execution_count": 18,
   "id": "3f519b59",
   "metadata": {},
   "outputs": [],
   "source": [
    "#Clength of the job\n",
    "df['Job_Length'] = df['Job Description'].apply(lambda x:len(x))"
   ]
  },
  {
   "cell_type": "code",
   "execution_count": 19,
   "id": "1df9c70d",
   "metadata": {},
   "outputs": [],
   "source": [
    "#What are the languages required for the job\n",
    "df['Python'] = df['Job Description'].apply(lambda x: 1 if \"python\" in x.lower() else 0)\n",
    "df['R_Stdio'] = df['Job Description'].apply(lambda x: 1 if \"r studio\" in x.lower() else 0)\n",
    "df['R_Stdio'] = df['Job Description'].apply(lambda x: 1 if \" R \" in x else 0)\n",
    "df['AWS'] = df['Job Description'].apply(lambda x: 1 if \"aws\" in x.lower() else 0)\n",
    "df['Spark'] = df['Job Description'].apply(lambda x: 1 if \"spark\" in x.lower() else 0)\n",
    "df['Excel'] = df['Job Description'].apply(lambda x: 1 if \"excel\" in x.lower() else 0)"
   ]
  },
  {
   "cell_type": "code",
   "execution_count": 20,
   "id": "39859601",
   "metadata": {},
   "outputs": [],
   "source": [
    "#Rephrasing the job title\n",
    "def job_title_rephrase(job_title):\n",
    "    \n",
    "    if \"data engineer\" in job_title.lower():\n",
    "        return \"Data Engineer\"\n",
    "    \n",
    "    elif \"data scientist\" in job_title.lower():\n",
    "        return \"Data Scientist\"\n",
    "    \n",
    "    elif \"manager\" in job_title.lower():\n",
    "        return \"Manager\"\n",
    "    \n",
    "    elif \"director\" in job_title.lower():\n",
    "        return \"Director\"\n",
    "    \n",
    "    elif \"analyst\" in job_title.lower():\n",
    "        return \"Analyst\"\n",
    "  \n",
    "    elif \"machine learning\" in job_title.lower():\n",
    "        return \"Machine Learning Engineer\";\n",
    "    \n",
    "    else:\n",
    "        return \"Other Titles\""
   ]
  },
  {
   "cell_type": "code",
   "execution_count": 21,
   "id": "ef5aaa0c",
   "metadata": {},
   "outputs": [],
   "source": [
    "#Senior or Junior Role\n",
    "def seniority(title):\n",
    "    \n",
    "    if 'SR' in title.upper() or 'sr.' in title.lower() or 'SENIOR' in title.upper() or 'lead' in title.lower() or 'principal' in title.lower():\n",
    "        return 'Senior'\n",
    "   \n",
    "    elif 'JR' in title.upper() or 'jr.' in title.lower() or 'JUNIOR' in title.upper():\n",
    "        return 'Junior'\n",
    "    \n",
    "    else:\n",
    "        return 'Not Mentioned'"
   ]
  },
  {
   "cell_type": "code",
   "execution_count": 22,
   "id": "7bc79f89",
   "metadata": {},
   "outputs": [],
   "source": [
    "df['Jobs_Rephrases'] = df['Job Title'].apply(job_title_rephrase)\n",
    "df['Seniority'] = df['Job Title'].apply(seniority)"
   ]
  },
  {
   "cell_type": "code",
   "execution_count": 23,
   "id": "3106e8af",
   "metadata": {},
   "outputs": [],
   "source": [
    "df['L_Job_Description'] = df['Job Description'].apply(lambda y:len(y))"
   ]
  },
  {
   "cell_type": "code",
   "execution_count": 24,
   "id": "c62dc86c",
   "metadata": {},
   "outputs": [],
   "source": [
    "df.to_csv('clean_glassdoors_dataset.csv',index = False)"
   ]
  },
  {
   "cell_type": "code",
   "execution_count": 25,
   "id": "45cec23c",
   "metadata": {},
   "outputs": [
    {
     "data": {
      "text/plain": [
       "(742, 34)"
      ]
     },
     "execution_count": 25,
     "metadata": {},
     "output_type": "execute_result"
    }
   ],
   "source": [
    "df.shape"
   ]
  },
  {
   "cell_type": "code",
   "execution_count": 26,
   "id": "50e02c27",
   "metadata": {},
   "outputs": [],
   "source": [
    "df = df.append([df]*130)"
   ]
  },
  {
   "cell_type": "code",
   "execution_count": 27,
   "id": "220ffee4",
   "metadata": {},
   "outputs": [
    {
     "data": {
      "text/plain": [
       "(97202, 34)"
      ]
     },
     "execution_count": 27,
     "metadata": {},
     "output_type": "execute_result"
    }
   ],
   "source": [
    "df.shape"
   ]
  },
  {
   "cell_type": "code",
   "execution_count": 28,
   "id": "78a3c438",
   "metadata": {},
   "outputs": [],
   "source": [
    "df.to_csv('mclean_glassdoors_dataset.csv',index = False)"
   ]
  }
 ],
 "metadata": {
  "kernelspec": {
   "display_name": "Python 3",
   "language": "python",
   "name": "python3"
  },
  "language_info": {
   "codemirror_mode": {
    "name": "ipython",
    "version": 3
   },
   "file_extension": ".py",
   "mimetype": "text/x-python",
   "name": "python",
   "nbconvert_exporter": "python",
   "pygments_lexer": "ipython3",
   "version": "3.8.8"
  }
 },
 "nbformat": 4,
 "nbformat_minor": 5
}
